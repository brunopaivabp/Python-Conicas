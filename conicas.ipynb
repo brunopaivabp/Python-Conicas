{
 "cells": [
  {
   "cell_type": "code",
   "execution_count": 1,
   "id": "a49f9f44",
   "metadata": {},
   "outputs": [],
   "source": [
    "from sympy import var, plot_implicit,Eq\n",
    "import matplotlib.pyplot as plt"
   ]
  },
  {
   "cell_type": "markdown",
   "id": "0b22c828",
   "metadata": {},
   "source": [
    "### 1) Programa de identificação de cônicas"
   ]
  },
  {
   "cell_type": "markdown",
   "id": "aca8bcb0",
   "metadata": {},
   "source": [
    "Digite a equação geral da cônica na forma $ Ax^{2} + Bxy + Cy^{2} + Dx + Ey + F = 0 $"
   ]
  },
  {
   "cell_type": "code",
   "execution_count": 12,
   "id": "7decdd4c",
   "metadata": {
    "scrolled": true
   },
   "outputs": [
    {
     "name": "stdout",
     "output_type": "stream",
     "text": [
      "Digite a equação geral da cônica no campo ao lado:x^2-y^2=1\n"
     ]
    }
   ],
   "source": [
    "string_conica = input(\"Digite a equação geral da cônica no campo ao lado:\")"
   ]
  },
  {
   "cell_type": "code",
   "execution_count": 13,
   "id": "233b8fa5",
   "metadata": {
    "scrolled": false
   },
   "outputs": [
    {
     "name": "stdout",
     "output_type": "stream",
     "text": [
      "x^2-y^2=1\n",
      "x^2-y^2-1=0\n",
      "['x^2-y^2-1=0']\n",
      "['x^2', '-y^2', '-1']\n"
     ]
    }
   ],
   "source": [
    "string_conica = string_conica.strip()\n",
    "string_conica = string_conica.replace(\" \",\"\")\n",
    "string_conica = string_conica.lower()\n",
    "def divisao_barra(x):\n",
    "    if \"/\" in x:\n",
    "        lista=x.split(\"/\")\n",
    "        if lista[0]!=\"\":\n",
    "            return float(lista[0])/float(lista[1])\n",
    "        else:\n",
    "            return 1.0/float(lista[1])\n",
    "    elif x==\"\":\n",
    "        return 1.0\n",
    "    elif x==\"-\":\n",
    "        return -1.0\n",
    "    else:\n",
    "        return float(x)\n",
    "\n",
    "print(string_conica)\n",
    "A,B,C,D,E,F=0,0,0,0,0,0\n",
    "\n",
    "if not(\"=0\" in string_conica):\n",
    "    posicaoigual=string_conica.find(\"=\")\n",
    "    auxf=string_conica[posicaoigual+1]\n",
    "    string_conica=string_conica.replace(\"=\"+str(auxf),\"-\"+str(auxf)+\"=0\")\n",
    "print(string_conica)\n",
    "\n",
    "aux=string_conica.split(\"+\")\n",
    "print(aux)\n",
    "lista=[]\n",
    "for elemento in aux:\n",
    "    exp=\"\"\n",
    "    for letra in elemento:\n",
    "        if letra==\"-\":\n",
    "            lista.append(exp)\n",
    "            exp=\"\"\n",
    "        if letra==\"=\":\n",
    "            break\n",
    "        exp+=letra\n",
    "    lista.append(exp)\n",
    "print(lista)\n",
    "\n",
    "for elemento in lista:\n",
    "    elemento=elemento.replace(\"(\",\"\")\n",
    "    elemento=elemento.replace(\")\",\"\")\n",
    "    elemento=elemento.replace(\"*\",\"\")\n",
    "    if \"x^2\" in elemento:\n",
    "        a=elemento.replace(\"x^2\",\"\")\n",
    "        A=divisao_barra(a)\n",
    "    elif \"xy\" in elemento:\n",
    "        b=elemento.replace(\"xy\",\"\")\n",
    "        B=divisao_barra(b)\n",
    "    elif \"y^2\" in elemento:\n",
    "        c=elemento.replace(\"y^2\",\"\")\n",
    "        C=divisao_barra(c)\n",
    "    elif \"x\" in elemento:\n",
    "        d=elemento.replace(\"x\",\"\")\n",
    "        D=divisao_barra(d)\n",
    "    elif \"y\" in elemento: \n",
    "        e=elemento.replace(\"y\",\"\")\n",
    "        E=divisao_barra(e)\n",
    "    else:\n",
    "        f=elemento.replace(\"=0\",\"\")\n",
    "        F=float(f)\n",
    "\n"
   ]
  },
  {
   "cell_type": "code",
   "execution_count": 14,
   "id": "2e2c496d",
   "metadata": {},
   "outputs": [
    {
     "data": {
      "text/plain": [
       "(1.0, 0, -1.0, 0, 0, -1.0)"
      ]
     },
     "execution_count": 14,
     "metadata": {},
     "output_type": "execute_result"
    }
   ],
   "source": [
    "A,B,C,D,E,F"
   ]
  },
  {
   "cell_type": "code",
   "execution_count": 15,
   "id": "5b0e4307",
   "metadata": {},
   "outputs": [
    {
     "name": "stdout",
     "output_type": "stream",
     "text": [
      "Hipérbole\n"
     ]
    }
   ],
   "source": [
    "discriminante = B**2 - 4*A*C\n",
    "\n",
    "if discriminante>0 :\n",
    "    print(\"Hipérbole\")\n",
    "if discriminante==0 :\n",
    "    if (A,B,C)!=(0,0,0):\n",
    "        print(\"Parábola\")\n",
    "    if (A,B,C)==(0,0,0):\n",
    "        print(\"Reta\")\n",
    "if discriminante<0:\n",
    "    if (A!=0 or C!=0) and (B,D,E)==(0,0,0) and (F>0):\n",
    "        print(\"Vazio\") \n",
    "    else:\n",
    "        print(\"Elipse\")"
   ]
  },
  {
   "cell_type": "code",
   "execution_count": 16,
   "id": "f536d066",
   "metadata": {},
   "outputs": [
    {
     "data": {
      "image/png": "[encoded data removed]",
      "text/plain": [
       "<Figure size 432x288 with 1 Axes>"
      ]
     },
     "metadata": {
      "needs_background": "light"
     },
     "output_type": "display_data"
    },
    {
     "data": {
      "text/plain": [
       "<sympy.plotting.plot.Plot at 0x2ade2ec4130>"
      ]
     },
     "execution_count": 16,
     "metadata": {},
     "output_type": "execute_result"
    }
   ],
   "source": [
    "var('x y')\n",
    "\n",
    "plot_implicit(Eq(A*x**2 + B*x*y + C*y**2 + D*x + E*y + F,0))"
   ]
  },
  {
   "cell_type": "code",
   "execution_count": null,
   "id": "400b2148",
   "metadata": {},
   "outputs": [],
   "source": []
  }
 ],
 "metadata": {
  "kernelspec": {
   "display_name": "Python 3 (ipykernel)",
   "language": "python",
   "name": "python3"
  },
  "language_info": {
   "codemirror_mode": {
    "name": "ipython",
    "version": 3
   },
   "file_extension": ".py",
   "mimetype": "text/x-python",
   "name": "python",
   "nbconvert_exporter": "python",
   "pygments_lexer": "ipython3",
   "version": "3.9.12"
  }
 },
 "nbformat": 4,
 "nbformat_minor": 5
}
